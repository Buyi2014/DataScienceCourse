Exercise 1 in DS
