{
 "cells": [
  {
   "cell_type": "markdown",
   "id": "f8e40288-a30b-401d-bca4-58e1839741bf",
   "metadata": {},
   "source": [
    "<h1>Data Science and Ecosystem<h1>"
   ]
  },
  {
   "cell_type": "markdown",
   "id": "210602eb-2e9a-481a-9129-6eaa69230e44",
   "metadata": {},
   "source": [
    "In this notebook, Data Science Tools and Ecosystem are summarized."
   ]
  },
  {
   "cell_type": "markdown",
   "id": "5dc91ef4-3172-4b63-bbf5-fad491d92659",
   "metadata": {},
   "source": [
    "Some of the commonly used libraries used by Data Scientists include: \n",
    "<li>numpy</li>\n",
    "<li>pandas</li>\n",
    "<li>seaborn</li>"
   ]
  },
  {
   "cell_type": "markdown",
   "id": "c3f7545d-a0d9-4602-8d2b-35a14653c6fe",
   "metadata": {},
   "source": [
    "| Data Science Tools |\n",
    "| ----------------- |\n",
    "| Python |\n",
    "| TensorFlow |\n",
    "| Tableau |\n",
    "| Apache Spark |\n",
    "|Apache Haddop |\n",
    " "
   ]
  },
  {
   "cell_type": "markdown",
   "id": "a1cfb514-8c23-4718-8422-d518f9b635d9",
   "metadata": {},
   "source": [
    "<h3>Below are few examples of evaluating arithmetic expressions in python<h3>"
   ]
  },
  {
   "cell_type": "code",
   "execution_count": 21,
   "id": "3e0823af-dc5f-46fb-a2e8-3b69b96755f6",
   "metadata": {},
   "outputs": [
    {
     "data": {
      "text/plain": [
       "17"
      ]
     },
     "execution_count": 21,
     "metadata": {},
     "output_type": "execute_result"
    }
   ],
   "source": [
    "#This a simple arithmetic expression to multiply then add integers.\n",
    "(3*4)+5"
   ]
  },
  {
   "cell_type": "code",
   "execution_count": 23,
   "id": "fbbc1780-2203-472e-8692-8f2eeeeebbba",
   "metadata": {},
   "outputs": [
    {
     "data": {
      "text/plain": [
       "3.3333333333333335"
      ]
     },
     "execution_count": 23,
     "metadata": {},
     "output_type": "execute_result"
    }
   ],
   "source": [
    "#This will convert 200 minutes to hours by dividing by 60\n",
    "200/60"
   ]
  },
  {
   "cell_type": "markdown",
   "id": "45c0eb43-2805-4b68-bcc3-752d3e859a3a",
   "metadata": {},
   "source": [
    "**Objectives:**\n",
    "<li> Tools for Data science </li>\n",
    "<li>Libraries used in Data Sceince</li>\n",
    "<li>Heading data Science and ecosystemsb</li>\n",
    "<li>Arithmetics Expressions</li>"
   ]
  },
  {
   "cell_type": "markdown",
   "id": "2a03ec86-25a7-4d57-9e40-c25a2cd8afcc",
   "metadata": {},
   "source": [
    "<h2>Author</h2>\n",
    "Zibuyisile Magubane"
   ]
  },
  {
   "cell_type": "code",
   "execution_count": null,
   "id": "19c168cc-6e74-426e-9395-eabcf9b8f899",
   "metadata": {},
   "outputs": [],
   "source": []
  }
 ],
 "metadata": {
  "kernelspec": {
   "display_name": "Python 3 (ipykernel)",
   "language": "python",
   "name": "python3"
  },
  "language_info": {
   "codemirror_mode": {
    "name": "ipython",
    "version": 3
   },
   "file_extension": ".py",
   "mimetype": "text/x-python",
   "name": "python",
   "nbconvert_exporter": "python",
   "pygments_lexer": "ipython3",
   "version": "3.12.4"
  }
 },
 "nbformat": 4,
 "nbformat_minor": 5
}
